{
 "cells": [
  {
   "cell_type": "markdown",
   "id": "95d96e1a-eb5c-4405-a376-c60d5195ead0",
   "metadata": {},
   "source": [
    "<h2 align=\"center\">Jednoduché tipy pre python vývojára</h2>\n",
    "\n",
    "<b><p>Daily tipy pre python vývojára. </p></b>\n",
    "<br>\n",
    "<b>Deň - 04 - Enumerate</b>  \n",
    "\n",
    "Enumerate je základná vstavaná Python funkcia, ktorá umožňuje pridávanie indexácie ku iterovateľnému objektu. S touto indexáciou je samozrejmé možné ďaľej pracovať, rovnako ako s objektom ktorým sa iteruje.\n",
    "\n",
    "Syntax je: ``enumerate(objekt, pociatocna_hodnota)`` 🙃"
   ]
  },
  {
   "cell_type": "code",
   "execution_count": 1,
   "id": "19edce8b-25a0-4c5d-9064-4ca9127faecd",
   "metadata": {},
   "outputs": [],
   "source": [
    "mesta = ['Bratislava', 'Zilina', 'Banska Bystrica', 'Kosice', 'Poprad', 'Ruzomberok']"
   ]
  },
  {
   "cell_type": "code",
   "execution_count": 2,
   "id": "21e18061-f835-4150-b0c4-f0015b2e5acb",
   "metadata": {},
   "outputs": [
    {
     "name": "stdout",
     "output_type": "stream",
     "text": [
      "0 Bratislava\n",
      "1 Zilina\n",
      "2 Banska Bystrica\n",
      "3 Kosice\n",
      "4 Poprad\n",
      "5 Ruzomberok\n"
     ]
    }
   ],
   "source": [
    "for index, mesto in enumerate(mesta):\n",
    "    print(index, mesto)"
   ]
  },
  {
   "cell_type": "code",
   "execution_count": 3,
   "id": "6fd76dca-e3b4-48c1-9ab4-48bedf593729",
   "metadata": {},
   "outputs": [
    {
     "data": {
      "text/plain": [
       "{0: 'Bratislava',\n",
       " 1: 'Zilina',\n",
       " 2: 'Banska Bystrica',\n",
       " 3: 'Kosice',\n",
       " 4: 'Poprad',\n",
       " 5: 'Ruzomberok'}"
      ]
     },
     "execution_count": 3,
     "metadata": {},
     "output_type": "execute_result"
    }
   ],
   "source": [
    "dict(enumerate(mesta))"
   ]
  },
  {
   "cell_type": "code",
   "execution_count": 4,
   "id": "9024235f-8d0a-4670-8800-f91db902c186",
   "metadata": {},
   "outputs": [
    {
     "data": {
      "text/plain": [
       "[(0, 'Bratislava'),\n",
       " (1, 'Zilina'),\n",
       " (2, 'Banska Bystrica'),\n",
       " (3, 'Kosice'),\n",
       " (4, 'Poprad'),\n",
       " (5, 'Ruzomberok')]"
      ]
     },
     "execution_count": 4,
     "metadata": {},
     "output_type": "execute_result"
    }
   ],
   "source": [
    "list(enumerate(mesta))"
   ]
  },
  {
   "cell_type": "code",
   "execution_count": 5,
   "id": "0eb4e6b0-9d89-482c-bd6c-ea974af7a01d",
   "metadata": {},
   "outputs": [
    {
     "data": {
      "text/plain": [
       "((5, 'Bratislava'),\n",
       " (6, 'Zilina'),\n",
       " (7, 'Banska Bystrica'),\n",
       " (8, 'Kosice'),\n",
       " (9, 'Poprad'),\n",
       " (10, 'Ruzomberok'))"
      ]
     },
     "execution_count": 5,
     "metadata": {},
     "output_type": "execute_result"
    }
   ],
   "source": [
    "tuple(enumerate(mesta, 5))  #index od 5 ->"
   ]
  },
  {
   "cell_type": "code",
   "execution_count": 6,
   "id": "3fd65ddf-4179-42e0-b96f-5a1c63b5c54d",
   "metadata": {},
   "outputs": [],
   "source": [
    "data = [10, 30, 60, 100, 150, 210, 280, 360, 450, 550, 660, 780]"
   ]
  },
  {
   "cell_type": "code",
   "execution_count": 7,
   "id": "28b31585-5ce8-45de-b42c-694fb60d6138",
   "metadata": {},
   "outputs": [
    {
     "data": {
      "text/plain": [
       "[20, 60, 120, 200, 300, 420, 560, 720, 900, 1100, 1320, 1560]"
      ]
     },
     "execution_count": 7,
     "metadata": {},
     "output_type": "execute_result"
    }
   ],
   "source": [
    "index = 0\n",
    "for hodnota in range(len(data)): \n",
    "    data[index] = data[index] + data[index]\n",
    "    index += 1\n",
    "data\n",
    "    "
   ]
  },
  {
   "cell_type": "code",
   "execution_count": 8,
   "id": "6eaefb53-5298-41a0-83c0-2ed7d2c9f33f",
   "metadata": {},
   "outputs": [
    {
     "data": {
      "text/plain": [
       "[40, 120, 240, 400, 600, 840, 1120, 1440, 1800, 2200, 2640, 3120]"
      ]
     },
     "execution_count": 8,
     "metadata": {},
     "output_type": "execute_result"
    }
   ],
   "source": [
    "# pre provnanie to iste pomocou enumerate\n",
    "\n",
    "for index, hodnota in enumerate(data):\n",
    "    data[index] = hodnota + hodnota\n",
    "data"
   ]
  },
  {
   "cell_type": "code",
   "execution_count": 9,
   "id": "fe5b8be4-10a4-476c-885f-872ce1a78070",
   "metadata": {},
   "outputs": [],
   "source": [
    "from pandas import DataFrame"
   ]
  },
  {
   "cell_type": "code",
   "execution_count": 10,
   "id": "57bc4458-d43f-4f3a-b057-d115a8bbe419",
   "metadata": {},
   "outputs": [
    {
     "data": {
      "text/html": [
       "<div>\n",
       "<style scoped>\n",
       "    .dataframe tbody tr th:only-of-type {\n",
       "        vertical-align: middle;\n",
       "    }\n",
       "\n",
       "    .dataframe tbody tr th {\n",
       "        vertical-align: top;\n",
       "    }\n",
       "\n",
       "    .dataframe thead th {\n",
       "        text-align: right;\n",
       "    }\n",
       "</style>\n",
       "<table border=\"1\" class=\"dataframe\">\n",
       "  <thead>\n",
       "    <tr style=\"text-align: right;\">\n",
       "      <th></th>\n",
       "      <th>meno</th>\n",
       "      <th>vek</th>\n",
       "    </tr>\n",
       "  </thead>\n",
       "  <tbody>\n",
       "    <tr>\n",
       "      <th>0</th>\n",
       "      <td>Jano</td>\n",
       "      <td>36</td>\n",
       "    </tr>\n",
       "    <tr>\n",
       "      <th>1</th>\n",
       "      <td>Peter</td>\n",
       "      <td>32</td>\n",
       "    </tr>\n",
       "    <tr>\n",
       "      <th>2</th>\n",
       "      <td>Lukas</td>\n",
       "      <td>33</td>\n",
       "    </tr>\n",
       "  </tbody>\n",
       "</table>\n",
       "</div>"
      ],
      "text/plain": [
       "    meno  vek\n",
       "0   Jano   36\n",
       "1  Peter   32\n",
       "2  Lukas   33"
      ]
     },
     "execution_count": 10,
     "metadata": {},
     "output_type": "execute_result"
    }
   ],
   "source": [
    "data_pre_df = {\n",
    "    \"meno\": [\"Jano\", \"Peter\", \"Lukas\"],\n",
    "    \"vek\": [36, 32, 33]\n",
    "}\n",
    "\n",
    "df = DataFrame(data_pre_df)\n",
    "df"
   ]
  },
  {
   "cell_type": "code",
   "execution_count": 11,
   "id": "2392ca6a-1ef8-44c7-98d8-8fa5f28f862e",
   "metadata": {},
   "outputs": [
    {
     "name": "stdout",
     "output_type": "stream",
     "text": [
      "Riadok 0 a stlpec 0 : Jano\n",
      "Riadok 0 a stlpec 1 : 36\n",
      "Riadok 1 a stlpec 0 : Peter\n",
      "Riadok 1 a stlpec 1 : 32\n",
      "Riadok 2 a stlpec 0 : Lukas\n",
      "Riadok 2 a stlpec 1 : 33\n"
     ]
    }
   ],
   "source": [
    "for i in range(len(df)):\n",
    "    #riadok i-ty\n",
    "    riadok = df.iloc[i]\n",
    "    for j in range(len(riadok)):\n",
    "        print(f\"Riadok {i} a stlpec {j} : {riadok[j]}\")"
   ]
  },
  {
   "cell_type": "code",
   "execution_count": 12,
   "id": "7d09e5d3-9a01-43c7-b990-bbc61d227157",
   "metadata": {},
   "outputs": [
    {
     "name": "stdout",
     "output_type": "stream",
     "text": [
      "Riadok 0 a stlpec 0 : Jano\n",
      "Riadok 0 a stlpec 1 : 36\n",
      "Riadok 1 a stlpec 0 : Peter\n",
      "Riadok 1 a stlpec 1 : 32\n",
      "Riadok 2 a stlpec 0 : Lukas\n",
      "Riadok 2 a stlpec 1 : 33\n"
     ]
    }
   ],
   "source": [
    "for i, riadok in enumerate(df.itertuples(index=False)): \n",
    "    for j, hodnota in enumerate(riadok):\n",
    "        print(f\"Riadok {i} a stlpec {j} : {riadok[j]}\")"
   ]
  },
  {
   "cell_type": "code",
   "execution_count": 13,
   "id": "c8fd8e0c-d8f2-45dd-8859-51d55009f2de",
   "metadata": {},
   "outputs": [],
   "source": [
    "data_obj = [\n",
    "    [\"Tricko\", 2, 20.99],\n",
    "    [\"Nohavice\", 3, 35.49],\n",
    "    [\"Topanky\", 2, 49.90]\n",
    "]"
   ]
  },
  {
   "cell_type": "code",
   "execution_count": 14,
   "id": "50a2ec45-ac14-46f6-99f8-fd0aba789688",
   "metadata": {},
   "outputs": [
    {
     "data": {
      "text/plain": [
       "[['Tricko', 2, 20.99, 41.98],\n",
       " ['Nohavice', 3, 35.49, 106.47],\n",
       " ['Topanky', 2, 49.9, 99.8]]"
      ]
     },
     "execution_count": 14,
     "metadata": {},
     "output_type": "execute_result"
    }
   ],
   "source": [
    "#bez enum - pre porovnanie\n",
    "\n",
    "for i in range(len(data_obj)):\n",
    "    oblecenie, mnozstvo, cena = data_obj[i]\n",
    "    vysledna_cena = mnozstvo * cena\n",
    "    data_obj[i].append(vysledna_cena)\n",
    "data_obj"
   ]
  },
  {
   "cell_type": "code",
   "execution_count": 15,
   "id": "6e1a6c85-ebb9-4767-9f40-4bc2706785b2",
   "metadata": {},
   "outputs": [],
   "source": [
    "data_obj = [\n",
    "    [\"Tricko\", 2, 20.99],\n",
    "    [\"Nohavice\", 3, 35.49],\n",
    "    [\"Topanky\", 2, 49.90]\n",
    "]"
   ]
  },
  {
   "cell_type": "code",
   "execution_count": 16,
   "id": "9cfe91e1-f3b1-4999-9b95-8659ce097874",
   "metadata": {},
   "outputs": [
    {
     "data": {
      "text/plain": [
       "[['Tricko', 2, 20.99, 41.98],\n",
       " ['Nohavice', 3, 35.49, 106.47],\n",
       " ['Topanky', 2, 49.9, 99.8]]"
      ]
     },
     "execution_count": 16,
     "metadata": {},
     "output_type": "execute_result"
    }
   ],
   "source": [
    "for index, (oblecenie, mnozstvo, cena) in enumerate(data_obj):\n",
    "    celkova_cena = mnozstvo * cena\n",
    "    data_obj[index].append(celkova_cena)\n",
    "data_obj"
   ]
  },
  {
   "cell_type": "code",
   "execution_count": null,
   "id": "67f5b55e-c61e-49d0-a881-8e0784a37eae",
   "metadata": {},
   "outputs": [],
   "source": []
  }
 ],
 "metadata": {
  "kernelspec": {
   "display_name": "Python 3 (ipykernel)",
   "language": "python",
   "name": "python3"
  },
  "language_info": {
   "codemirror_mode": {
    "name": "ipython",
    "version": 3
   },
   "file_extension": ".py",
   "mimetype": "text/x-python",
   "name": "python",
   "nbconvert_exporter": "python",
   "pygments_lexer": "ipython3",
   "version": "3.8.16"
  }
 },
 "nbformat": 4,
 "nbformat_minor": 5
}
