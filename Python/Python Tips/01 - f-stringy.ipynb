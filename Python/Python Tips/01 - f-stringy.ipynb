{
 "cells": [
  {
   "cell_type": "markdown",
   "id": "aef40cd2-fb1b-464f-91ae-f893da33ee99",
   "metadata": {
    "tags": []
   },
   "source": [
    "<h2 align=\"center\">Jednoduché tipy pre python vývojára</h2>\n",
    "\n",
    "<b><p>Daily tipy pre python vývojára. </p></b>\n",
    "<br>\n",
    "<b>Deň - 01 - f-stringy</b>  \n",
    "<p>Použitie f-stringového formátovŕho reťazca je z hľadiska prehľadnosti pohodlný spôsob ako vložiť do premennú/é do textového reťazca.\n",
    "<p>Pre jednoduchý výpis sa používa f pred úvodzovkami a do textového reťazca sa vkladá premenná do vnútra <b>{ }</b> zátvoriek."
   ]
  },
  {
   "cell_type": "code",
   "execution_count": 1,
   "id": "1073702e-8d68-4ba1-9074-4ea00fd4c411",
   "metadata": {},
   "outputs": [
    {
     "name": "stdout",
     "output_type": "stream",
     "text": [
      "Vyvojar Miso vytvoril jednoduchy priklad pre programovaci jazyk Python a stravil pri tom 5 minut.\n"
     ]
    }
   ],
   "source": [
    "Cas = 5\n",
    "Vyvojar = 'Miso'\n",
    "Jazyk = 'Python'\n",
    "\n",
    "print(f'Vyvojar {Vyvojar} vytvoril jednoduchy priklad pre programovaci jazyk {Jazyk} a stravil pri tom {Cas} minut.')"
   ]
  },
  {
   "cell_type": "code",
   "execution_count": 2,
   "id": "2a4eeb19-61d5-4f30-99ff-c2cc85fb2942",
   "metadata": {},
   "outputs": [
    {
     "name": "stdout",
     "output_type": "stream",
     "text": [
      "Vyvojar Miso vytvoril jednoduchy priklad pre programovaci jazyk Python a stravil pri tom 5 minut.\n"
     ]
    }
   ],
   "source": [
    "print(\"Vyvojar \" + str(Vyvojar) + \" vytvoril jednoduchy priklad pre programovaci jazyk \" + str(Jazyk) + \" a stravil pri tom \" + str(Cas) + \" minut.\")"
   ]
  },
  {
   "cell_type": "code",
   "execution_count": 3,
   "id": "1ac4fbfc-c772-42ff-97d0-6192e10b4903",
   "metadata": {},
   "outputs": [
    {
     "name": "stdout",
     "output_type": "stream",
     "text": [
      "To je vsetko!\n"
     ]
    }
   ],
   "source": [
    "print(\"To je vsetko!\")"
   ]
  }
 ],
 "metadata": {
  "kernelspec": {
   "display_name": "Python 3 (ipykernel)",
   "language": "python",
   "name": "python3"
  },
  "language_info": {
   "codemirror_mode": {
    "name": "ipython",
    "version": 3
   },
   "file_extension": ".py",
   "mimetype": "text/x-python",
   "name": "python",
   "nbconvert_exporter": "python",
   "pygments_lexer": "ipython3",
   "version": "3.8.16"
  }
 },
 "nbformat": 4,
 "nbformat_minor": 5
}
