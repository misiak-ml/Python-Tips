{
 "cells": [
  {
   "cell_type": "markdown",
   "id": "618abdc9-241c-477a-89fe-7b5f23cdd2a5",
   "metadata": {
    "tags": []
   },
   "source": [
    "<h2 align=\"center\">Jednoduché tipy pre python vývojára</h2>\n",
    "\n",
    "<b><p>Daily tipy pre python vývojára. </p></b>\n",
    "<br>\n",
    "<b>Deň - 03 - list comprehension</b>  \n",
    "Pomocou list comprehension môžeme previesť cykly a podmienky, ktoré by sme inak napísali na viacerých riadkoch, do jedného prehľadného riadku.\n",
    "\n",
    "Syntax je: ``zoznam = [vyraz for prvok in iterovatelny_objekt if podmienka]`` 🙃\n"
   ]
  },
  {
   "cell_type": "code",
   "execution_count": 1,
   "id": "9d48c4ee-50e9-42bb-9955-96ca3fb1011e",
   "metadata": {},
   "outputs": [
    {
     "name": "stdout",
     "output_type": "stream",
     "text": [
      "[0, 1, 4, 9, 16, 25, 36, 49, 64, 81]\n"
     ]
    }
   ],
   "source": [
    "#Vypocitajme x^2 pre zoznam od 0-9 bez list comprehension\n",
    "\n",
    "stvorce = []\n",
    "for x in range(10):\n",
    "    stvorce.append(x**2) \n",
    "print(stvorce)"
   ]
  },
  {
   "cell_type": "code",
   "execution_count": 2,
   "id": "74d6d582-769b-4e70-a6dd-a1df2cc52ab5",
   "metadata": {},
   "outputs": [
    {
     "name": "stdout",
     "output_type": "stream",
     "text": [
      "[0, 1, 4, 9, 16, 25, 36, 49, 64, 81]\n"
     ]
    }
   ],
   "source": [
    "#Skratenie toho isteho prikladu pomocou list comprehension\n",
    "\n",
    "stvorce = [x**2 for x in range(10)]\n",
    "print(stvorce)  "
   ]
  },
  {
   "cell_type": "code",
   "execution_count": 3,
   "id": "6953f560-00ec-4eb2-8fcf-7ac62f4a4a93",
   "metadata": {},
   "outputs": [
    {
     "name": "stdout",
     "output_type": "stream",
     "text": [
      "[0, 2, 4, 6, 8]\n"
     ]
    }
   ],
   "source": [
    "#Najdime parne cisla v zozname od 0-9\n",
    "parne_cisla = []\n",
    "for x in range(10):\n",
    "    if x % 2 == 0:\n",
    "        parne_cisla.append(x)\n",
    "print(parne_cisla)"
   ]
  },
  {
   "cell_type": "code",
   "execution_count": 4,
   "id": "e8b68505-749e-42ea-9584-6ee7c91861f7",
   "metadata": {},
   "outputs": [
    {
     "name": "stdout",
     "output_type": "stream",
     "text": [
      "[0, 2, 4, 6, 8]\n"
     ]
    }
   ],
   "source": [
    "#Skratenie predosleho prikladu pomocou list comprehension s podmienkou \n",
    "parne_cisla = [x for x in range(10) if x % 2 == 0]\n",
    "print(parne_cisla)"
   ]
  },
  {
   "cell_type": "code",
   "execution_count": 5,
   "id": "e5b8b59e-74d3-48eb-90ee-032e40251d32",
   "metadata": {},
   "outputs": [
    {
     "data": {
      "text/plain": [
       "[1, 2, 0, 4, 0, 0, 7, 8, 0]"
      ]
     },
     "execution_count": 5,
     "metadata": {},
     "output_type": "execute_result"
    }
   ],
   "source": [
    "#Jednoduchy filter cez podmienku pre vsetky x, ktore nie su None vrati povodnu hodnotu, pre None vrati 0 \n",
    "data = [1, 2, None, 4, None, None, 7, 8, None]\n",
    "fixed_data = [x if x is not None else 0 for x in data]\n",
    "fixed_data"
   ]
  },
  {
   "cell_type": "code",
   "execution_count": 6,
   "id": "5bd05573-1f29-4aa9-ad00-f1f608a0117b",
   "metadata": {},
   "outputs": [
    {
     "name": "stdout",
     "output_type": "stream",
     "text": [
      "['cervena', 'modra', 'zelena', 'modra', 'cervena', 'zelena', 'zelena', 'cervena', 'modra'] \n",
      " [1, 2, 3, 2, 1, 3, 3, 1, 2]\n"
     ]
    }
   ],
   "source": [
    "#Jednoduche mapovanie stringov na celociselne hodnoty cez if - else pouzitim list comprehension\n",
    "textove_data = ['cervena', 'modra', 'zelena', 'modra', 'cervena', 'zelena', 'zelena', 'cervena', 'modra']\n",
    "transofrmovane_data = [1 if i =='cervena' else (2 if i == 'modra' else 3) for i in textove_data]\n",
    "\n",
    "print(f\"{textove_data} \\n {transofrmovane_data}\")"
   ]
  },
  {
   "cell_type": "code",
   "execution_count": null,
   "id": "f9670699-e72c-4575-9110-1d3f64243b94",
   "metadata": {},
   "outputs": [],
   "source": []
  }
 ],
 "metadata": {
  "kernelspec": {
   "display_name": "Python 3 (ipykernel)",
   "language": "python",
   "name": "python3"
  },
  "language_info": {
   "codemirror_mode": {
    "name": "ipython",
    "version": 3
   },
   "file_extension": ".py",
   "mimetype": "text/x-python",
   "name": "python",
   "nbconvert_exporter": "python",
   "pygments_lexer": "ipython3",
   "version": "3.8.16"
  }
 },
 "nbformat": 4,
 "nbformat_minor": 5
}
