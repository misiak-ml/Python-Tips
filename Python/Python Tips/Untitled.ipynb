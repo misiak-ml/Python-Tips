{
 "cells": [
  {
   "cell_type": "markdown",
   "id": "95d96e1a-eb5c-4405-a376-c60d5195ead0",
   "metadata": {},
   "source": [
    "<h2 align=\"center\">Jednoduché tipy pre python vývojára</h2>\n",
    "\n",
    "<b><p>Daily tipy pre python vývojára. </p></b>\n",
    "<br>\n",
    "<b>Deň - 04 - Enumerate</b>  \n",
    "Pomocou list comprehension môžeme previesť cykly a podmienky, ktoré by sme inak napísali na viacerých riadkoch, do jedného prehľadného riadku.\n",
    "\n",
    "Syntax je: ``zoznam = [vyraz for prvok in iterovatelny_objekt if podmienka]`` 🙃"
   ]
  }
 ],
 "metadata": {
  "kernelspec": {
   "display_name": "Python 3 (ipykernel)",
   "language": "python",
   "name": "python3"
  },
  "language_info": {
   "codemirror_mode": {
    "name": "ipython",
    "version": 3
   },
   "file_extension": ".py",
   "mimetype": "text/x-python",
   "name": "python",
   "nbconvert_exporter": "python",
   "pygments_lexer": "ipython3",
   "version": "3.8.16"
  }
 },
 "nbformat": 4,
 "nbformat_minor": 5
}
