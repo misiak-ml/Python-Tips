{
 "cells":[
  {
   "cell_type":"markdown",
   "source":[
    "<h2 align=\"center\"> Jednoduché tipy pre python vývojára<\/h2>\n",
    "\n",
    "<b>Daily tipy pre python vývojára.<\/b>\n",
    "\n",
    "\n",
    "\n",
    "Deň - 05 - filter a lambda\n",
    "\n",
    "Filter je Python zabudovaná funkcia využívajúca sa na filtrovanie z iterovateľného objektu (napr. list, tuple, dictionary). Filtruje sa na základe podmienky stanovenej v funkcionálnom objekte, zvyčajne vo forme funkcie alebo lambda výrazu.\n",
    "\n",
    "Zápis je ``filter(podmienka, iterovatelny_objekt)``"
   ],
   "attachments":{},
   "metadata":{
    "datalore":{
     "node_id":"bL5Gta8QuNbFqL9o0WPQ32",
     "type":"MD",
     "hide_input_from_viewers":true,
     "hide_output_from_viewers":true
    }
   }
  },
  {
   "cell_type":"code",
   "source":[
    "# filtrujeme None zo zoznamu data\n",
    "data = [1, 2, None, 4, 5, None, 7, 8, 9]\n",
    "\n",
    "filtered_data = list(filter(None, data))\n",
    "filtered_data"
   ],
   "execution_count":1,
   "outputs":[
    {
     "data":{
      "text\/plain":[
       "[1, 2, 4, 5, 7, 8, 9]"
      ]
     },
     "metadata":{},
     "output_type":"display_data"
    }
   ],
   "metadata":{
    "datalore":{
     "node_id":"7FFKXDnBaZSHKCZYZriZ3X",
     "type":"CODE",
     "hide_input_from_viewers":true,
     "hide_output_from_viewers":true
    }
   }
  },
  {
   "cell_type":"code",
   "source":[
    "without_filter = []\n",
    "\n",
    "for x in data: \n",
    "    if x is not None:\n",
    "        without_filter.append(x)\n",
    "    else: \n",
    "        pass\n",
    "without_filter"
   ],
   "execution_count":2,
   "outputs":[
    {
     "data":{
      "text\/plain":[
       "[1, 2, 4, 5, 7, 8, 9]"
      ]
     },
     "metadata":{},
     "output_type":"display_data"
    }
   ],
   "metadata":{
    "datalore":{
     "node_id":"jWSPAVNsEpesD5WpECdLKU",
     "type":"CODE",
     "hide_input_from_viewers":true,
     "hide_output_from_viewers":true
    }
   }
  },
  {
   "cell_type":"code",
   "source":[
    "data = [2, 4, 7, 11, 15, 20, 28, 30, 55, 100]"
   ],
   "execution_count":3,
   "outputs":[],
   "metadata":{
    "datalore":{
     "node_id":"0RlRstJBOViNHrClaFrfjF",
     "type":"CODE",
     "hide_input_from_viewers":true,
     "hide_output_from_viewers":true
    }
   }
  },
  {
   "cell_type":"code",
   "source":[
    "#filter pre cisla mensie ako 20 pouzitim lambda funkcie ako podmienky pre data\n",
    "filtered_data = list(filter(lambda x: x < 20, data))\n",
    "filtered_data"
   ],
   "execution_count":4,
   "outputs":[
    {
     "data":{
      "text\/plain":[
       "[2, 4, 7, 11, 15]"
      ]
     },
     "metadata":{},
     "output_type":"display_data"
    }
   ],
   "metadata":{
    "datalore":{
     "node_id":"LasQOiZ4JZMx87TxPbLWHq",
     "type":"CODE",
     "hide_input_from_viewers":true,
     "hide_output_from_viewers":true
    }
   }
  },
  {
   "cell_type":"code",
   "source":[
    "processed_data = []\n",
    "for x in data:\n",
    "    if x < 20: \n",
    "        processed_data.append(x)\n",
    "processed_data"
   ],
   "execution_count":5,
   "outputs":[
    {
     "data":{
      "text\/plain":[
       "[2, 4, 7, 11, 15]"
      ]
     },
     "metadata":{},
     "output_type":"display_data"
    }
   ],
   "metadata":{
    "datalore":{
     "node_id":"tya6YgZceEwl5BJAO9ZA0l",
     "type":"CODE",
     "hide_input_from_viewers":true,
     "hide_output_from_viewers":true
    }
   }
  },
  {
   "cell_type":"markdown",
   "source":[
    "Build-in funkcia **lambda** je funkcia pythonu, ktorá plní úlohu funkcie bez toho, aby samotná funkcia musela byť vytvorená cez ``def`` - preto sa nazýva anonymná. Výhoda tejto funkcie je, že vytvorené premenné vo vnútri samotnej funkcie zaniknú po zavolaní samotnej funkcie."
   ],
   "attachments":{},
   "metadata":{
    "datalore":{
     "node_id":"RiY70oLpOujCtgnbk9Jc97",
     "type":"MD",
     "hide_input_from_viewers":true,
     "hide_output_from_viewers":true
    }
   }
  },
  {
   "cell_type":"code",
   "source":[
    "parne_cisla = list(filter(lambda x: x % 2 == 0, data))\n",
    "parne_cisla"
   ],
   "execution_count":6,
   "outputs":[
    {
     "data":{
      "text\/plain":[
       "[2, 4, 20, 28, 30, 100]"
      ]
     },
     "metadata":{},
     "output_type":"display_data"
    }
   ],
   "metadata":{
    "datalore":{
     "node_id":"tHuqI2Pb0JYCsQsZMVTLmf",
     "type":"CODE",
     "hide_input_from_viewers":true,
     "hide_output_from_viewers":true
    }
   }
  },
  {
   "cell_type":"code",
   "source":[
    "from pandas import DataFrame\n",
    "\n",
    "data = {\n",
    "    \"produkt\" : ['Topanky', 'Tricka', 'Bundy', 'Nohavice'],\n",
    "    \"mnozstvo\" : [13, 44, 16, 27],\n",
    "    \"cena\" : [70, 20, 60, 40]\n",
    "}\n",
    "\n",
    "df_from_data = DataFrame(data)\n",
    "df_from_data"
   ],
   "execution_count":7,
   "outputs":[
    {
     "data":{
      "text\/html":[
       "<div>\n",
       "<style scoped>\n",
       "    .dataframe tbody tr th:only-of-type {\n",
       "        vertical-align: middle;\n",
       "    }\n",
       "\n",
       "    .dataframe tbody tr th {\n",
       "        vertical-align: top;\n",
       "    }\n",
       "\n",
       "    .dataframe thead th {\n",
       "        text-align: right;\n",
       "    }\n",
       "<\/style>\n",
       "<table border=\"1\" class=\"dataframe\">\n",
       "  <thead>\n",
       "    <tr style=\"text-align: right;\">\n",
       "      <th><\/th>\n",
       "      <th>produkt<\/th>\n",
       "      <th>mnozstvo<\/th>\n",
       "      <th>cena<\/th>\n",
       "    <\/tr>\n",
       "  <\/thead>\n",
       "  <tbody>\n",
       "    <tr>\n",
       "      <th>0<\/th>\n",
       "      <td>Topanky<\/td>\n",
       "      <td>13<\/td>\n",
       "      <td>70<\/td>\n",
       "    <\/tr>\n",
       "    <tr>\n",
       "      <th>1<\/th>\n",
       "      <td>Tricka<\/td>\n",
       "      <td>44<\/td>\n",
       "      <td>20<\/td>\n",
       "    <\/tr>\n",
       "    <tr>\n",
       "      <th>2<\/th>\n",
       "      <td>Bundy<\/td>\n",
       "      <td>16<\/td>\n",
       "      <td>60<\/td>\n",
       "    <\/tr>\n",
       "    <tr>\n",
       "      <th>3<\/th>\n",
       "      <td>Nohavice<\/td>\n",
       "      <td>27<\/td>\n",
       "      <td>40<\/td>\n",
       "    <\/tr>\n",
       "  <\/tbody>\n",
       "<\/table>\n",
       "<\/div>"
      ]
     },
     "metadata":{},
     "output_type":"display_data"
    }
   ],
   "metadata":{
    "datalore":{
     "node_id":"qPZWS4uYTYxjhuWi72WLEj",
     "type":"CODE",
     "hide_input_from_viewers":true,
     "hide_output_from_viewers":true
    }
   }
  },
  {
   "cell_type":"code",
   "source":[
    "# filtrujeme data pre value vacsiu ako 20 z dataframu, kde vyberame par produkt : mnozstvo\n",
    "vyfiltrovane_data = dict(filter(lambda x: x[1] > 20, zip(df_from_data[\"produkt\"], df_from_data[\"mnozstvo\"])))\n",
    "vyfiltrovane_data"
   ],
   "execution_count":8,
   "outputs":[
    {
     "data":{
      "text\/plain":[
       "{'Tricka': 44, 'Nohavice': 27}"
      ]
     },
     "metadata":{},
     "output_type":"display_data"
    }
   ],
   "metadata":{
    "datalore":{
     "node_id":"BFMo9sD66eTg8ss57NjMEO",
     "type":"CODE",
     "hide_input_from_viewers":true,
     "hide_output_from_viewers":true
    }
   }
  },
  {
   "cell_type":"code",
   "source":[
    "# doplneny filter o cenu, pricom mozstvo a cena su v tuple\n",
    "vyfiltrovane_data = dict(filter(lambda x: x[1][0] > 20, zip(df_from_data[\"produkt\"], zip(df_from_data[\"mnozstvo\"], df_from_data[\"cena\"]))))\n",
    "vyfiltrovane_data"
   ],
   "execution_count":9,
   "outputs":[
    {
     "data":{
      "text\/plain":[
       "{'Tricka': (44, 20), 'Nohavice': (27, 40)}"
      ]
     },
     "metadata":{},
     "output_type":"display_data"
    }
   ],
   "metadata":{
    "datalore":{
     "node_id":"cQvkWcgH8H9CSsN4UPh1PB",
     "type":"CODE",
     "hide_input_from_viewers":true,
     "hide_output_from_viewers":true
    }
   }
  },
  {
   "cell_type":"code",
   "source":[
    "high_sales = {}\n",
    "for i in range(len(df_from_data)):\n",
    "    print(df_from_data[\"produkt\"][i], df_from_data[\"mnozstvo\"][i], df_from_data[\"cena\"][i])\n",
    "    if df_from_data['mnozstvo'][i] > 20: \n",
    "        high_sales[df_from_data[\"produkt\"][i]] = df_from_data[\"mnozstvo\"][i]\n",
    "\n",
    "high_sales\n",
    "        \n",
    "    "
   ],
   "execution_count":10,
   "outputs":[
    {
     "name":"stdout",
     "text":[
      "Topanky 13 70\n",
      "Tricka 44 20\n",
      "Bundy 16 60\n",
      "Nohavice 27 40\n"
     ],
     "output_type":"stream"
    },
    {
     "data":{
      "text\/plain":[
       "{'Tricka': 44, 'Nohavice': 27}"
      ]
     },
     "metadata":{},
     "output_type":"display_data"
    }
   ],
   "metadata":{
    "datalore":{
     "node_id":"2xlVFjd5z285VA8im003cf",
     "type":"CODE",
     "hide_input_from_viewers":true,
     "hide_output_from_viewers":true
    }
   }
  },
  {
   "cell_type":"code",
   "source":[],
   "execution_count":0,
   "outputs":[],
   "metadata":{
    "datalore":{
     "node_id":"WFksFnGJ3qCbyfQPqO2UJx",
     "type":"CODE",
     "hide_input_from_viewers":true,
     "hide_output_from_viewers":true
    }
   }
  }
 ],
 "metadata":{
  "kernelspec":{
   "display_name":"Python",
   "language":"python",
   "name":"python"
  },
  "datalore":{
   "computation_mode":"JUPYTER",
   "package_manager":"pip",
   "base_environment":"default",
   "packages":[],
   "report_row_ids":[],
   "version":3
  }
 },
 "nbformat":4,
 "nbformat_minor":4
}