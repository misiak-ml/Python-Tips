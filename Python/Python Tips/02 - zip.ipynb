{
 "cells": [
  {
   "cell_type": "markdown",
   "id": "6f3a8c31-2910-436b-b5c5-ca145a5ff416",
   "metadata": {},
   "source": [
    "<h2 align=\"center\">Jednoduché tipy pre python vývojára</h2>\n",
    "\n",
    "<b><p>Daily tipy pre python vývojára. </p></b>\n",
    "<br>\n",
    "<b>Deň - 02 - zip</b>  \n",
    "<p>Táto funkcia slúži na iterovanie cez viacerých iterovaťeľných objektov (zoznamov, reťazcov, n-tíc...) do jedného iterovateľného objektu, pročom každý z prvkov je na rovnakej pozícii. Ak použijete funkciu zip() s iterovateľnými objektmi rôznej dĺžky, Python sa pri zipsovaní zastaví na konci najkratšieho iterovateľného objektu."
   ]
  },
  {
   "cell_type": "code",
   "execution_count": 1,
   "id": "3c30703f-e883-4db8-93af-8e55a1d739a8",
   "metadata": {},
   "outputs": [
    {
     "data": {
      "text/plain": [
       "[(0, 'Juro', 'zlato'),\n",
       " (1, 'Peter', 'striebro'),\n",
       " (2, 'Dusan', 'bronz'),\n",
       " (3, 'Igor', None),\n",
       " (4, 'Marian', None)]"
      ]
     },
     "execution_count": 1,
     "metadata": {},
     "output_type": "execute_result"
    }
   ],
   "source": [
    "\"\"\"\n",
    "Predstavte si, ze mate 3 rozne polia, rovnako dlhe. \n",
    "\"\"\"\n",
    "\n",
    "poradie = [0, 1, 2, 3, 4]\n",
    "sutaziaci = [\"Juro\", \"Peter\", \"Dusan\", \"Igor\", \"Marian\"]\n",
    "cena = [\"zlato\", \"striebro\", \"bronz\", None, None]\n",
    "\n",
    "zoznam = list(zip(poradie, sutaziaci, cena))\n",
    "\n",
    "zoznam"
   ]
  },
  {
   "cell_type": "code",
   "execution_count": 2,
   "id": "3766a810-5cc5-428b-bf77-5df1c68e22f2",
   "metadata": {},
   "outputs": [
    {
     "name": "stdout",
     "output_type": "stream",
     "text": [
      "0 Juro zlato\n",
      "1 Peter striebro\n",
      "2 Dusan bronz\n"
     ]
    }
   ],
   "source": [
    "for index in zoznam: \n",
    "    poradie, sutaziaci, cena = index\n",
    "    if poradie > 2:\n",
    "        break\n",
    "    print(poradie, sutaziaci, cena)"
   ]
  },
  {
   "cell_type": "markdown",
   "id": "3a94262d-d2ae-4694-9277-a4ac47b4798e",
   "metadata": {},
   "source": [
    "Na rozzipovanie - spätný proces sa používa ``zip(*objekt)``"
   ]
  },
  {
   "cell_type": "code",
   "execution_count": 3,
   "id": "b701c399-864f-4e1f-bb7f-c5c299bbeba4",
   "metadata": {},
   "outputs": [
    {
     "data": {
      "text/plain": [
       "((0, 1, 2, 3, 4),\n",
       " ('Juro', 'Peter', 'Dusan', 'Igor', 'Marian'),\n",
       " ('zlato', 'striebro', 'bronz', None, None))"
      ]
     },
     "execution_count": 3,
     "metadata": {},
     "output_type": "execute_result"
    }
   ],
   "source": [
    "p, s, c = zip(*zoznam)\n",
    "\n",
    "p, s, c"
   ]
  },
  {
   "cell_type": "code",
   "execution_count": 4,
   "id": "9ddd7fa0-1446-4c79-8555-fd17bae0819a",
   "metadata": {},
   "outputs": [
    {
     "name": "stdout",
     "output_type": "stream",
     "text": [
      "(0, 'Juro', 'zlato')\n",
      "(1, 'Peter', 'striebro')\n",
      "(2, 'Dusan', 'bronz')\n",
      "(3, 'Igor', None)\n",
      "(4, 'Marian', None)\n"
     ]
    }
   ],
   "source": [
    "for i in zip(p, s, c):\n",
    "    print(i)"
   ]
  },
  {
   "cell_type": "code",
   "execution_count": null,
   "id": "1115785c-14c8-4001-8422-a26fd608b2c8",
   "metadata": {},
   "outputs": [],
   "source": []
  }
 ],
 "metadata": {
  "kernelspec": {
   "display_name": "Python 3 (ipykernel)",
   "language": "python",
   "name": "python3"
  },
  "language_info": {
   "codemirror_mode": {
    "name": "ipython",
    "version": 3
   },
   "file_extension": ".py",
   "mimetype": "text/x-python",
   "name": "python",
   "nbconvert_exporter": "python",
   "pygments_lexer": "ipython3",
   "version": "3.8.16"
  }
 },
 "nbformat": 4,
 "nbformat_minor": 5
}
